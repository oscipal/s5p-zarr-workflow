{
 "cells": [
  {
   "cell_type": "code",
   "execution_count": 1,
   "id": "4c91f732",
   "metadata": {},
   "outputs": [
    {
     "name": "stdout",
     "output_type": "stream",
     "text": [
      "Temporary dir: /tmp/tmp3vckugy6\n"
     ]
    }
   ],
   "source": [
    "from cdsetool.query import query_features\n",
    "from cdsetool.credentials import Credentials\n",
    "from cdsetool.download import download_features\n",
    "from cdsetool.monitor import StatusMonitor\n",
    "from datetime import date\n",
    "import os\n",
    "from datetime import date\n",
    "import os\n",
    "import datetime\n",
    "from dateutil.relativedelta import relativedelta\n",
    "\n",
    "os.environ[\"start_date\"] = \"2024-05-01\"\n",
    "os.environ[\"cdse_access\"] = \"simon.mosonyi@eodc.eu\"\n",
    "os.environ[\"cdse_secret\"] = \"Maturing6-Heaviness-Parachute-Drove-Everyday-Batboy\"\n",
    "os.environ[\"productType\"] = \"L2__CO____\"\n",
    "\n",
    "\n",
    "from s5p_zarr_workflow.download_cdse import download\n"
   ]
  },
  {
   "cell_type": "code",
   "execution_count": null,
   "id": "265e4eea",
   "metadata": {},
   "outputs": [
    {
     "name": "stdout",
     "output_type": "stream",
     "text": [
      "S5P_OFFL_L2__CO_____20240501T115126_20240501T133256_33938_03_020600_20240504T054940.nc.zip (253.28 MB)\n",
      "[[  | 1 files in progress | 1 files done | 305.71 MB total downloaded | 1.05 MB/s ]]\n",
      "S5P_OFFL_L2__CO_____20240501T100956_20240501T115126_33937_03_020600_202405 244.67 MB (21%)\n",
      "[████████████████                                                              ]\n"
     ]
    }
   ],
   "source": [
    "print(download())"
   ]
  },
  {
   "cell_type": "code",
   "execution_count": null,
   "id": "4aec7b80",
   "metadata": {},
   "outputs": [],
   "source": [
    "list(\n",
    "    download_features(\n",
    "        features,\n",
    "        \"data\",\n",
    "        {\n",
    "            \"concurrency\": 4,\n",
    "            \"monitor\": StatusMonitor(),\n",
    "            \"credentials\": Credentials(cdse_access, cdse_secret),\n",
    "        },\n",
    "    )\n",
    ")"
   ]
  }
 ],
 "metadata": {
  "kernelspec": {
   "display_name": "s5p-zarr-workflow-OUg_djUS-py3.11",
   "language": "python",
   "name": "python3"
  },
  "language_info": {
   "codemirror_mode": {
    "name": "ipython",
    "version": 3
   },
   "file_extension": ".py",
   "mimetype": "text/x-python",
   "name": "python",
   "nbconvert_exporter": "python",
   "pygments_lexer": "ipython3",
   "version": "3.11.3"
  }
 },
 "nbformat": 4,
 "nbformat_minor": 5
}
